{
 "cells": [
  {
   "cell_type": "code",
   "execution_count": 6,
   "metadata": {},
   "outputs": [],
   "source": [
    "from Crypto.Cipher import AES\n",
    "from Crypto import Random"
   ]
  },
  {
   "cell_type": "code",
   "execution_count": 7,
   "metadata": {},
   "outputs": [],
   "source": [
    "# key = Random.new().read(AES.block_size)\n",
    "# iv = Random.new().read(AES.block_size)\n",
    "# print(key, iv)\n",
    "# key = b'\\xb1p\\x9c|3\\xe7\\xbc:\\xe5j\\x1e\\x86]\\xca\\xb0\\xc0'\n",
    "# iv = b'O\\t4\\xb5\\x11O\\xd6\\xf6\\x0e\\xe6<\\xbax\\xeb{k'"
   ]
  },
  {
   "cell_type": "code",
   "execution_count": 8,
   "metadata": {},
   "outputs": [],
   "source": [
    "def encrypt(input_data, key, iv):\n",
    "    cfb_cipher = AES.new(key, AES.MODE_CFB, iv)\n",
    "    enc_data = cfb_cipher.encrypt(input_data)\n",
    "\n",
    "    enc_file = open(\"out_e.enc\", \"wb\")\n",
    "    enc_file.write(enc_data)\n",
    "    enc_file.close()"
   ]
  },
  {
   "cell_type": "code",
   "execution_count": 9,
   "metadata": {},
   "outputs": [],
   "source": [
    "def decrypt(encrypted_data, key, iv):\n",
    "    cfb_decipher = AES.new(key, AES.MODE_CFB, iv)\n",
    "    plain_data = cfb_decipher.decrypt(encrypted_data)\n",
    "\n",
    "    output_file = open(\"out_d.jpg\", \"wb\")\n",
    "    output_file.write(plain_data)\n",
    "    output_file.close()"
   ]
  },
  {
   "cell_type": "code",
   "execution_count": 11,
   "metadata": {},
   "outputs": [
    {
     "name": "stdout",
     "output_type": "stream",
     "text": [
      "Print 0 to encrypt or 1 to decrypt: 1\n"
     ]
    }
   ],
   "source": [
    "def main():\n",
    "    flag = int(input('Print 0 to encrypt or 1 to decrypt: '))\n",
    "    \n",
    "    key_file = open('key.enc', 'rb')\n",
    "    key = key_file.read()\n",
    "    key_file.close()\n",
    "\n",
    "    iv_file = open('iv.enc', 'rb')\n",
    "    iv = iv_file.read()\n",
    "    iv_file.close()\n",
    "    \n",
    "    if flag == 0:\n",
    "        input_file = open(\"photo.jpg\", \"rb\")\n",
    "        input_data = input_file.read()\n",
    "        input_file.close()\n",
    "        encrypt(input_data, key, iv)\n",
    "    elif flag == 1:\n",
    "        enc_file = open(\"out_e.enc\", \"rb\")\n",
    "        encrypted_data = enc_file.read()\n",
    "        enc_file.close()\n",
    "        decrypt(encrypted_data, key, iv)\n",
    "    else:\n",
    "        print('Err')\n",
    "#         exit()\n",
    "main()"
   ]
  }
 ],
 "metadata": {
  "kernelspec": {
   "display_name": "Python 3",
   "language": "python",
   "name": "python3"
  }
 },
 "nbformat": 4,
 "nbformat_minor": 2
}
